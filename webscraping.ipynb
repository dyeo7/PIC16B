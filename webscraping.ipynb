{
 "cells": [
  {
   "cell_type": "markdown",
   "id": "abd61024-19e7-488d-88d0-2af9504f7e8c",
   "metadata": {},
   "source": [
    "# Web Scraping\n",
    "\n",
    "## What is Web Scraping?\n",
    "\n",
    "- \"The web\": a collection of files hosted on a large network of \n",
    "communicating servers.\n",
    "- *Webscraping* : the act of accessing those files and programmatically saving them, or parts of them, to a chosen location (usually your computer). This is often a critical task  when writing projects that require\n",
    "data from the internet. \n",
    "\n",
    "\n",
    "\n",
    "HTML (HyperText Markup Language): said to be the fabric of the internet.\n",
    "\n",
    "\n",
    "Nearly all of the things that you \n",
    "would normally think of as \"webpages\" are really files \n",
    "written in HTML. A browser like Firefox, Chrome, or Safari is\n",
    "just a program for *rendering* HTML in an attractive visual \n",
    "format. \n",
    "\n",
    "HTTP (Hypertext Transfer Protocol): a protocol to send/receive HTML files.\n",
    "\n",
    "- Unfortunately, for scraping, we often need to interact with raw HTML, which can get messy. \n",
    "- Fortunately, web scraping packages, like `beautifulsoup` or `scrapy` give us some tools with which to do this. \n",
    "\n",
    "\n",
    "Resources:\n",
    "\n",
    "- pd.read_html: https://pandas.pydata.org/docs/reference/api/pandas.read_html.html to look for a table in a webpage\n",
    "\n",
    "- requests: https://requests.readthedocs.io/en/latest/ a Python interface to make HTTP requests\n",
    "\n",
    "- Introduction to HTML: https://www.w3schools.com/html/html_intro.asp\n",
    "\n",
    "- BeautifulSoup: https://www.crummy.com/software/BeautifulSoup/bs4/doc/"
   ]
  },
  {
   "cell_type": "markdown",
   "id": "5d0a702a-47f1-4197-80a6-bf893e9622a6",
   "metadata": {},
   "source": [
    "Let's take a quick look at the tutorial website we'll scrape from. \n",
    "\n",
    "http://quotes.toscrape.com/"
   ]
  },
  {
   "cell_type": "markdown",
   "id": "89587c93-1a8e-413c-af5d-7e027d70915e",
   "metadata": {},
   "source": [
    "We observe that there are a number of quotes, which possess \n",
    "text, authors, and tags. There are multiple pages of \n",
    "these quotes, which are accessed via the \"Next\" button. \n",
    "\n",
    "For now, let's try just obtain the text on the webpage. "
   ]
  },
  {
   "cell_type": "code",
   "execution_count": null,
   "id": "d051e0dd-56b6-4367-8594-1ae5b3972b81",
   "metadata": {
    "tags": []
   },
   "outputs": [],
   "source": [
    "import requests\n",
    "link = \"http://quotes.toscrape.com/\"\n",
    "data = requests.get(link).text"
   ]
  },
  {
   "cell_type": "code",
   "execution_count": null,
   "id": "dfa02961-7305-427a-a61e-a6358de4cb0d",
   "metadata": {
    "tags": []
   },
   "outputs": [],
   "source": [
    "print(data)"
   ]
  },
  {
   "cell_type": "code",
   "execution_count": null,
   "id": "d62ef6f5-e249-4cd7-896e-4648b63a6407",
   "metadata": {
    "tags": []
   },
   "outputs": [],
   "source": [
    "from bs4 import BeautifulSoup"
   ]
  },
  {
   "cell_type": "markdown",
   "id": "f0afc1ba-5a00-4fe4-a249-f826aead0259",
   "metadata": {},
   "source": [
    "The `BeautifulSoup` type is a basis type for parsing a webpage."
   ]
  },
  {
   "cell_type": "code",
   "execution_count": null,
   "id": "610dc2a8-2042-4f4e-a342-7f35007d541e",
   "metadata": {
    "tags": []
   },
   "outputs": [],
   "source": [
    "def link2soup(link):\n",
    "    \"\"\"Convert a link to a BeautifulSoup object.\"\"\"\n",
    "    data = requests.get(link).text\n",
    "    return BeautifulSoup(data)"
   ]
  },
  {
   "cell_type": "code",
   "execution_count": null,
   "id": "0c724483-10a0-4c0c-966b-2fe8088fd6bf",
   "metadata": {
    "tags": []
   },
   "outputs": [],
   "source": [
    "type(requests.get(link))"
   ]
  },
  {
   "cell_type": "code",
   "execution_count": null,
   "id": "ec0b3594-8a3e-4cf9-a44b-d1416ea653fc",
   "metadata": {
    "tags": []
   },
   "outputs": [],
   "source": [
    "soup = link2soup(link)"
   ]
  },
  {
   "cell_type": "code",
   "execution_count": null,
   "id": "0a7dc9b8-84d2-424b-9ea3-040227b93ee6",
   "metadata": {
    "tags": []
   },
   "outputs": [],
   "source": [
    "type(soup)"
   ]
  },
  {
   "cell_type": "markdown",
   "id": "afb82171-1001-4de8-802b-76ac1fd88e8f",
   "metadata": {},
   "source": [
    "## CSS Selectors\n",
    "\n",
    "CSS (Cascaded Styling Sheet) is a file type for styling web pages. It is designed to apply some formatting to certain parts of the webpage. How do we select \"certain parts\"? That is what CSS selectors are for. \n",
    "\n",
    "\n",
    "- CSS selector references: https://www.w3schools.com/cssref/css_selectors.php\n",
    "- a fun activity: https://flukeout.github.io/\n",
    "\n",
    "\n",
    "__Note__: We are intentionally taking a route using the CSS selectors and `.select()` methods, as this is also useful for other web scraping tools. There are interfaces that might be simpler for you to use in BeautifulSoup -- that will be covered by Alex. \n",
    "\n",
    "\n",
    "A quick code to parse text, author name, and the list of tags:\n",
    "\n"
   ]
  },
  {
   "cell_type": "code",
   "execution_count": null,
   "id": "7a075268-ed55-49c0-87ac-4bb4d30bbea0",
   "metadata": {
    "tags": []
   },
   "outputs": [],
   "source": [
    "soup.select(\"small.author\")[0].get_text()"
   ]
  },
  {
   "cell_type": "code",
   "execution_count": null,
   "id": "828db131-b6e6-4a00-90ea-4354d277105f",
   "metadata": {
    "tags": []
   },
   "outputs": [],
   "source": [
    "l = []\n",
    "\n",
    "for t in soup.select(\"div.quote\"): # div element of class quote\n",
    "    text = t.select(\"span.text\")[0].get_text()\n",
    "    author = t.select(\"small.author\")[0].get_text()\n",
    "    tags = t.select(\"div.tags a.tag\") # \"a element of class tag\" inside \"div element of class tags\"\n",
    "    tags = [x.get_text() for x in tags]\n",
    "    l.append((text, author, tags))        "
   ]
  },
  {
   "cell_type": "code",
   "execution_count": null,
   "id": "47cdc438-45cf-496e-a8ea-5a59e0745642",
   "metadata": {
    "tags": []
   },
   "outputs": [],
   "source": [
    "l"
   ]
  },
  {
   "cell_type": "markdown",
   "id": "8f2c8bba-6485-4492-b506-4083579361ac",
   "metadata": {},
   "source": [
    "### Following the links\n",
    "\n",
    "At the bottom of each page, there is a \"next\" button. Can we follow the link?"
   ]
  },
  {
   "cell_type": "code",
   "execution_count": null,
   "id": "80afeb26-1a15-4355-bbf4-0050ee58583f",
   "metadata": {
    "tags": []
   },
   "outputs": [],
   "source": [
    "next_button = soup.select(\".next a\")[0] # an element of a inside an element of class \"next\"\n",
    "next_url = link + next_button.attrs[\"href\"]"
   ]
  },
  {
   "cell_type": "code",
   "execution_count": null,
   "id": "4d159a5a-2271-4cc4-8078-014d10017caf",
   "metadata": {
    "tags": []
   },
   "outputs": [],
   "source": [
    "next_url"
   ]
  },
  {
   "cell_type": "code",
   "execution_count": null,
   "id": "b85a721f-6a31-4551-bbfc-27c0d1325eb7",
   "metadata": {
    "tags": []
   },
   "outputs": [],
   "source": [
    "next_soup = link2soup(next_url)"
   ]
  },
  {
   "cell_type": "code",
   "execution_count": 1,
   "id": "ef63a85d-b839-40ef-b428-7dee9a67c537",
   "metadata": {
    "tags": []
   },
   "outputs": [],
   "source": [
    "def parse_page(l, soup, base_url):\n",
    "    \"\"\"\n",
    "    Parses the quotes in a page, appending a tuple of (text, author, tags) for each quote to l. \n",
    "    Then returns the URL to the next page. If the \"next\" button is not found, return None.\n",
    "    \"\"\"\n",
    "    pass\n"
   ]
  },
  {
   "cell_type": "markdown",
   "id": "f48dc011-1cd2-4107-87ae-4791dd5b7f0e",
   "metadata": {},
   "source": [
    "__Exercise__: Can we continue on and parse all the quotes on that website?\n",
    "\n",
    "__iClicker poll__: How many quotes are scraped?"
   ]
  },
  {
   "cell_type": "code",
   "execution_count": null,
   "id": "81c343ed-0a8f-44fd-9cfb-7402a2814ab0",
   "metadata": {
    "tags": []
   },
   "outputs": [],
   "source": [
    "base_url = \"http://quotes.toscrape.com/\"\n",
    "l = []\n",
    "soup = link2soup(base_url)\n",
    "while True:\n",
    "    pass"
   ]
  },
  {
   "cell_type": "code",
   "execution_count": null,
   "id": "f29bda47-f496-4d51-9fc3-011ce75defeb",
   "metadata": {
    "tags": []
   },
   "outputs": [],
   "source": [
    "len(l)"
   ]
  },
  {
   "cell_type": "markdown",
   "id": "fce6545f-ddf0-427a-8cdb-c3f54d41b76e",
   "metadata": {},
   "source": [
    "## Example: The 25 most popular feature films released in 2023\n",
    "\n",
    "Can be accessed at: https://www.imdb.com/search/title/?title_type=feature&release_date=2023-01-01,2023-12-31&count=25\n",
    "\n",
    "__Note__: If you attempt to load more than 25 films, you will face a trouble, as this webpage utilizes JavaScript pagination. For such cases, you can use the `selenium` package to automate web browser interaction from Python."
   ]
  },
  {
   "cell_type": "code",
   "execution_count": null,
   "id": "bcf32ff9-a058-4def-a33e-a9ffa18b1c31",
   "metadata": {
    "tags": []
   },
   "outputs": [],
   "source": [
    "url = \"https://www.imdb.com/search/title/?title_type=feature&release_date=2023-01-01,2023-12-31&count=25\"\n",
    "headers = {'User-Agent': 'Mozilla/5.0 (Windows NT 6.1; WOW64; rv:50.0) Gecko/20100101 Firefox/50.0'} \n",
    "# you act like user, not a robot. \n",
    "data = requests.get(url, headers=headers).text\n",
    "soup = BeautifulSoup(data)"
   ]
  },
  {
   "cell_type": "code",
   "execution_count": null,
   "id": "e7035b47-740f-448d-ae45-1802342a2b12",
   "metadata": {
    "tags": []
   },
   "outputs": [],
   "source": [
    "soup;"
   ]
  },
  {
   "cell_type": "markdown",
   "id": "89103a80-9983-44ce-b42e-0d6456645295",
   "metadata": {},
   "source": [
    "Suppose we want to scrape following 8 features from this page:\n",
    "- Rank (popularity)\n",
    "- Title\n",
    "- Description\n",
    "- Runtime\n",
    "- User rating\n",
    "- Metascore"
   ]
  },
  {
   "cell_type": "markdown",
   "id": "8326a51d-e6d1-423f-8079-85bc91f9da55",
   "metadata": {},
   "source": [
    "### Rank and title"
   ]
  },
  {
   "cell_type": "code",
   "execution_count": null,
   "id": "8cd55522-4130-4d3a-abd1-aa8e9fe316a0",
   "metadata": {
    "tags": []
   },
   "outputs": [],
   "source": [
    "title_texts = [x.get_text() for x in soup.select('.ipc-title-link-wrapper .ipc-title__text')]"
   ]
  },
  {
   "cell_type": "code",
   "execution_count": null,
   "id": "fdbfcb71-8404-4e4c-9afe-6619561d71f3",
   "metadata": {
    "tags": []
   },
   "outputs": [],
   "source": [
    "title_texts"
   ]
  },
  {
   "cell_type": "code",
   "execution_count": null,
   "id": "361c63dd-0fea-4de8-83f5-26daec5517d7",
   "metadata": {
    "tags": []
   },
   "outputs": [],
   "source": [
    "import re # the Python regular expression module"
   ]
  },
  {
   "cell_type": "code",
   "execution_count": null,
   "id": "b05f2a68-4671-43bf-a39a-0f39ec97e57c",
   "metadata": {
    "tags": []
   },
   "outputs": [],
   "source": [
    "rank_data = [int(re.search('^[0-9]+', x).group(0)) for x in title_texts]\n",
    "rank_data;"
   ]
  },
  {
   "cell_type": "code",
   "execution_count": null,
   "id": "053dfd42-b1e9-493b-bf66-204630122827",
   "metadata": {
    "tags": []
   },
   "outputs": [],
   "source": [
    "title_data = [x[re.search('^[0-9]+. ', x).end():] for x in title_texts]\n",
    "title_data"
   ]
  },
  {
   "cell_type": "markdown",
   "id": "2f00083a-5a47-4863-9684-054990aa57aa",
   "metadata": {},
   "source": [
    "### Descriptions"
   ]
  },
  {
   "cell_type": "code",
   "execution_count": null,
   "id": "64f745d3-e4e0-4037-99e4-383d361c080f",
   "metadata": {
    "tags": []
   },
   "outputs": [],
   "source": [
    "description_data = [x.get_text() for x in soup.select('.ipc-html-content-inner-div')]\n",
    "description_data"
   ]
  },
  {
   "cell_type": "markdown",
   "id": "2ad5a717-f5b6-45f0-a305-05d722c107fa",
   "metadata": {},
   "source": [
    "### Runtimes"
   ]
  },
  {
   "cell_type": "code",
   "execution_count": null,
   "id": "cc19d78c-eb45-477e-93a7-92cda16fbd33",
   "metadata": {
    "tags": []
   },
   "outputs": [],
   "source": [
    "runtime_data = [x.get_text() for x in soup.select('.dli-title-metadata-item:nth-child(2)')]\n",
    "runtime_data[0]"
   ]
  },
  {
   "cell_type": "code",
   "execution_count": null,
   "id": "7bce2503-3736-4c1c-b4d4-959d50e1505e",
   "metadata": {
    "tags": []
   },
   "outputs": [],
   "source": [
    "runtime_hr = [int(re.search(\"\\\\d+(?=h)\", x).group(0)) if re.search(\"\\\\d+(?=h)\", x) else 0 for x in runtime_data]"
   ]
  },
  {
   "cell_type": "code",
   "execution_count": null,
   "id": "d3f5db39-4a23-49e2-b7cf-667b40c6d61d",
   "metadata": {
    "tags": []
   },
   "outputs": [],
   "source": [
    "runtime_min = [int(re.search(\"\\\\d+(?=m)\", x).group(0)) if re.search(\"\\\\d+(?=m)\", x) else 0 for x in runtime_data ]"
   ]
  },
  {
   "cell_type": "code",
   "execution_count": null,
   "id": "214f857d-955c-4c1e-b934-10dcb1b52861",
   "metadata": {
    "tags": []
   },
   "outputs": [],
   "source": [
    "runtime_data = [runtime_hr[i] * 60 + runtime_min[i] for i in range(len(runtime_hr))]"
   ]
  },
  {
   "cell_type": "code",
   "execution_count": null,
   "id": "77dba266-44c2-4295-9cd4-6094b9bacbf8",
   "metadata": {
    "tags": []
   },
   "outputs": [],
   "source": [
    "runtime_data"
   ]
  },
  {
   "cell_type": "markdown",
   "id": "77f09345-a6e4-4140-b873-ee69e18166ff",
   "metadata": {
    "tags": []
   },
   "source": [
    "### User rating"
   ]
  },
  {
   "cell_type": "code",
   "execution_count": null,
   "id": "c8d4ee3f-6064-428b-86aa-b71d56a0fd3c",
   "metadata": {
    "tags": []
   },
   "outputs": [],
   "source": [
    "userrating_data = [x.get_text() for x in soup.select('.ratingGroup--imdb-rating')]"
   ]
  },
  {
   "cell_type": "code",
   "execution_count": null,
   "id": "e3d9186f-fbd0-485a-ae7f-a99086d498ef",
   "metadata": {
    "tags": []
   },
   "outputs": [],
   "source": [
    "userrating_data[0]"
   ]
  },
  {
   "cell_type": "code",
   "execution_count": null,
   "id": "f82973c3-37b6-4972-8391-4b5a08234e0e",
   "metadata": {
    "tags": []
   },
   "outputs": [],
   "source": [
    "userrating_data = [float(x.split('\\xa0')[0]) for x in userrating_data]"
   ]
  },
  {
   "cell_type": "code",
   "execution_count": null,
   "id": "5af3430c-f10a-4ef9-a0fa-17aba7f91113",
   "metadata": {
    "tags": []
   },
   "outputs": [],
   "source": [
    "userrating_data"
   ]
  },
  {
   "cell_type": "markdown",
   "id": "3b590107-1e53-4865-b193-4eaa7286be4d",
   "metadata": {},
   "source": [
    "### Metascore"
   ]
  },
  {
   "cell_type": "code",
   "execution_count": null,
   "id": "8b4e166f-9fd0-43b2-a906-a232deaf2727",
   "metadata": {
    "tags": []
   },
   "outputs": [],
   "source": [
    "metascore_data = [float(x.get_text()) for x in soup.select('.metacritic-score-box')]"
   ]
  },
  {
   "cell_type": "code",
   "execution_count": null,
   "id": "8ac25093-ee3b-464f-826e-60b64dadc1a0",
   "metadata": {
    "tags": []
   },
   "outputs": [],
   "source": [
    "len(metascore_data)"
   ]
  },
  {
   "cell_type": "code",
   "execution_count": null,
   "id": "c9ac030c-1ae1-4596-914a-2bc89604b57e",
   "metadata": {
    "tags": []
   },
   "outputs": [],
   "source": [
    "metascore_data"
   ]
  },
  {
   "cell_type": "markdown",
   "id": "c2e759a3-0c04-4ce3-9ab0-1f1881a31c86",
   "metadata": {},
   "source": [
    "__Exercise__: We have movie ratings (R, PG, PG-13, etc.) listed on IMDB, and you can access them by the CSS selector `'.dli-title-metadata-item:nth-child(3)'`. What does this CSS selector mean? How would you obtain the ratings? How many of them are rated-R?"
   ]
  },
  {
   "cell_type": "code",
   "execution_count": null,
   "id": "56923999-e7f1-43e2-bb24-a12fd70be9a5",
   "metadata": {},
   "outputs": [],
   "source": []
  },
  {
   "cell_type": "markdown",
   "id": "03f49bf9-dd99-4e6c-9b02-9cc3c8842d85",
   "metadata": {},
   "source": [
    "### Visualizing the data"
   ]
  },
  {
   "cell_type": "code",
   "execution_count": null,
   "id": "0e4af567-1b9f-47d9-9089-99b5edb29d18",
   "metadata": {},
   "outputs": [],
   "source": [
    "import pandas as pd\n",
    "df = pd.DataFrame(data = {\n",
    "    \"poprank\" : rank_data,\n",
    "    \"title\" : title_data,\n",
    "    \"description\": description_data,\n",
    "    \"runtime\": runtime_data,\n",
    "    \"userrating\": userrating_data,\n",
    "    \"metascore\": metascore_data\n",
    "}\n",
    "                 )\n",
    "    "
   ]
  },
  {
   "cell_type": "code",
   "execution_count": null,
   "id": "4c48ce27-5482-4520-b4d5-99d6601ab5ab",
   "metadata": {
    "tags": []
   },
   "outputs": [],
   "source": [
    "df"
   ]
  },
  {
   "cell_type": "code",
   "execution_count": null,
   "id": "8ea5732b-cb96-4575-af8a-b8574e16395b",
   "metadata": {
    "tags": []
   },
   "outputs": [],
   "source": [
    "from plotly import express as px"
   ]
  },
  {
   "cell_type": "code",
   "execution_count": null,
   "id": "1a111528-2da7-4c92-b5a7-6c369223beef",
   "metadata": {
    "tags": []
   },
   "outputs": [],
   "source": [
    "fig = px.scatter(df, \n",
    "                 x = \"userrating\",\n",
    "                 y = \"metascore\",\n",
    "                 hover_name = \"title\",\n",
    "                 height = 500,\n",
    "                 trendline=\"lowess\"\n",
    ")\n",
    "fig.show()"
   ]
  }
 ],
 "metadata": {
  "kernelspec": {
   "display_name": "Python [conda env:PIC16B-24F] *",
   "language": "python",
   "name": "conda-env-PIC16B-24F-py"
  },
  "language_info": {
   "codemirror_mode": {
    "name": "ipython",
    "version": 3
   },
   "file_extension": ".py",
   "mimetype": "text/x-python",
   "name": "python",
   "nbconvert_exporter": "python",
   "pygments_lexer": "ipython3",
   "version": "3.11.6"
  }
 },
 "nbformat": 4,
 "nbformat_minor": 5
}
