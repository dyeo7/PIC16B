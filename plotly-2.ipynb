{
 "cells": [
  {
   "cell_type": "markdown",
   "id": "vocal-mileage",
   "metadata": {},
   "source": [
    "# Interactive Data Graphics with Plotly\n",
    "\n",
    "In this lecture, we'll use the Plotly library to construct engaging interactive graphics using a high-level interface. In this lecture, we'll use Plotly to build out the standard data visualization tools. \n",
    "\n",
    "There are a number of plot types not shown here: check the [Plotly Express overview](https://plotly.com/python/plotly-express/) for many other interesting and useful plot types. \n",
    "\n",
    "For this lecture, we're going to take a break from the NOAA climate data set. You'll use Plotly to construct visualizations using this data in Homework 1. For now, we're going to use the #BestDataSet: Palmer Penguins! \n",
    "\n",
    "<figure class=\"image\" style=\"width:50%\">\n",
    "  <img src=\"https://raw.githubusercontent.com/allisonhorst/palmerpenguins/master/man/figures/lter_penguins.png\" alt=\"\">\n",
    "  <figcaption><i>Artwork by @allison_horst</i></figcaption>\n",
    "</figure>\n",
    "\n",
    "First, let's retrieve and clean up the data a little. These are all standard pandas operations, so we're not going to spend much time here. "
   ]
  },
  {
   "cell_type": "code",
   "execution_count": null,
   "id": "developing-active",
   "metadata": {
    "tags": []
   },
   "outputs": [],
   "source": [
    "import pandas as pd\n",
    "filename = \"palmer_penguins.csv\"\n",
    "penguins = pd.read_csv(filename)\n",
    "penguins = penguins.dropna(subset = [\"Body Mass (g)\", \"Sex\"])\n",
    "penguins[\"Species\"] = penguins[\"Species\"].str.split().str.get(0)\n",
    "penguins = penguins[penguins[\"Sex\"] != \".\"]\n",
    "\n",
    "cols = [\"Species\", \"Island\", \"Sex\", \"Culmen Length (mm)\", \"Culmen Depth (mm)\", \"Flipper Length (mm)\", \"Body Mass (g)\"]\n",
    "penguins = penguins[cols]"
   ]
  },
  {
   "cell_type": "markdown",
   "id": "running-technique",
   "metadata": {},
   "source": [
    "Let's take a look at the simplified data set: "
   ]
  },
  {
   "cell_type": "code",
   "execution_count": null,
   "id": "verified-foundation",
   "metadata": {
    "tags": []
   },
   "outputs": [],
   "source": [
    "penguins.head()"
   ]
  },
  {
   "cell_type": "markdown",
   "id": "surprising-welding",
   "metadata": {},
   "source": [
    "As you know from Homework 0, each row corresponds to an individual penguin. The penguin's species, island of encounter, and sex are recorded as qualitative variables. There are also measurements of the penguin's  bill (culmen is the upper ridge of it), as well as its flipper length and body mass. There are some additional columns which we're ignoring for today. "
   ]
  },
  {
   "cell_type": "markdown",
   "id": "7e2184ec-75e1-4394-918a-e7f19ac301da",
   "metadata": {},
   "source": [
    "<figure class=\"image\" style=\"width:50%\">\n",
    "  <img src=\"https://allisonhorst.github.io/palmerpenguins/reference/figures/culmen_depth.png\" alt=\"\">\n",
    "  <figcaption><i>Artwork by @allison_horst</i></figcaption>\n",
    "</figure>"
   ]
  },
  {
   "cell_type": "markdown",
   "id": "skilled-power",
   "metadata": {},
   "source": [
    "## Getting Started with Plotly \n",
    "\n",
    "Plotly includes a very large catalog of interesting plotting capabilities. We are only going to scratch the surface, using the Plotly Express module, which allows us to create several of the most important kinds of plots using convenient, high-level functions. \n",
    "\n",
    "Let's run an example before breaking it down. "
   ]
  },
  {
   "cell_type": "code",
   "execution_count": null,
   "id": "f7adc2b6-a41d-40be-a731-923ba7925142",
   "metadata": {
    "tags": []
   },
   "outputs": [],
   "source": [
    "import plotly\n",
    "plotly.__version__"
   ]
  },
  {
   "cell_type": "code",
   "execution_count": null,
   "id": "f2209cf2-fbc4-4ab0-b29f-1f26f70b7556",
   "metadata": {
    "tags": []
   },
   "outputs": [],
   "source": [
    "import plotly.io as pio\n",
    "pio.templates.default"
   ]
  },
  {
   "cell_type": "code",
   "execution_count": null,
   "id": "gorgeous-hello",
   "metadata": {
    "tags": []
   },
   "outputs": [],
   "source": [
    "from plotly import express as px\n",
    "\n",
    "fig = px.scatter(data_frame = penguins,\n",
    "                 x = \"Culmen Length (mm)\",\n",
    "                 y = \"Culmen Depth (mm)\",\n",
    "                 color = \"Species\",\n",
    "                 width = 500,\n",
    "                 height = 300,\n",
    "                )\n",
    "\n",
    "#reduce whitespace\n",
    "fig.update_layout(margin={\"r\":0, \"t\":0, \"l\":0, \"b\":0})\n",
    "# show the plot\n",
    "fig.show()"
   ]
  },
  {
   "cell_type": "markdown",
   "id": "artificial-steal",
   "metadata": {},
   "source": [
    "Let's break this down a bit. \n",
    "\n",
    "The first line imports the `express` module of `plotly`, which provides a high-level interface to a variety of Plotly tools. One can also work directly with the low-level `graph_objects` module, which allows one a finer level of control over the settings of visualizations. We won't use `graph_objects` in this course. \n",
    "\n",
    "```python\n",
    "fig = px.scatter(data_frame = penguins,    # data set\n",
    "                 x = \"Culmen Length (mm)\", # column for x axis\n",
    "                 y = \"Culmen Depth (mm)\",  # column for y axis\n",
    "                 color = \"Species\",        # column for dot color\n",
    "                 width = 500,              # width of figure\n",
    "                 height = 300)             # height of figure\n",
    "```\n",
    "\n",
    "Recall that our standard syntax from Matplotlib usually requires us to pass `x` and `y` as *arrays* or *lists*. Here, we do something different: we start by specifying a *data frame*. Then, `x`, `y`, and several other arguments that we'll see in a moment are interpreted as *columns* of the supplied data frame. So, a call like \n",
    "\n",
    "```python\n",
    "fig = px.scatter(data_frame = penguins,    \n",
    "                 x = \"Culmen Length (mm)\", \n",
    "                 y = \"Culmen Depth (mm)\") \n",
    "```\n",
    "\n",
    "is somewhat similar to \n",
    "\n",
    "```python\n",
    "ax.scatter(penguins[\"Culmen Length (mm)\"], \n",
    "           penguins[\"Culmen Depth (mm)\"])\n",
    "```\n",
    "\n",
    "using familiar Matplotlib tools. We'll see that the Plotly approach makes it much easier to construct complex data graphics in situations in which our data is in the form of a data frame. \n",
    "\n",
    "*Side note*: the syntax of Plotly Express is similar to that of the [Seaborn package](https://seaborn.pydata.org/), which is a non-interactive library for constructing complex graphics from data frames. \n",
    "\n",
    "Let's fancy up our plot a little: "
   ]
  },
  {
   "cell_type": "code",
   "execution_count": null,
   "id": "laden-prototype",
   "metadata": {
    "tags": []
   },
   "outputs": [],
   "source": [
    "fig = px.scatter(data_frame = penguins,\n",
    "                 x = \"Culmen Length (mm)\",\n",
    "                 y = \"Culmen Depth (mm)\",\n",
    "                 color = \"Species\",\n",
    "                 hover_name = \"Species\",\n",
    "                 hover_data = [\"Island\", \"Sex\"],\n",
    "                 size = \"Body Mass (g)\",\n",
    "                 size_max = 8,\n",
    "                 width = 500,\n",
    "                 height = 300,\n",
    "                 opacity = 0.5\n",
    "                )\n",
    "\n",
    "#reduce whitespace\n",
    "fig.update_layout(margin={\"r\":0, \"t\":0, \"l\":0, \"b\":0})\n",
    "# show the plot\n",
    "fig.show()"
   ]
  },
  {
   "cell_type": "markdown",
   "id": "assumed-pittsburgh",
   "metadata": {},
   "source": [
    "There are nice marginal plots for the statistically-inclined: "
   ]
  },
  {
   "cell_type": "code",
   "execution_count": null,
   "id": "miniature-africa",
   "metadata": {
    "tags": []
   },
   "outputs": [],
   "source": [
    "fig = px.scatter(data_frame = penguins,\n",
    "                 x = \"Culmen Length (mm)\",\n",
    "                 y = \"Culmen Depth (mm)\",\n",
    "                 color = \"Species\",\n",
    "                 hover_name = \"Species\",\n",
    "                 hover_data = [\"Island\", \"Sex\"],\n",
    "                 size = \"Body Mass (g)\",\n",
    "                 size_max = 8,\n",
    "                 width = 500,\n",
    "                 height = 300,\n",
    "                 opacity = 0.5,\n",
    "                 marginal_y = \"box\",\n",
    "                 marginal_x = \"rug\"\n",
    "                )\n",
    "\n",
    "#reduce whitespace\n",
    "fig.update_layout(margin={\"r\":0, \"t\":0, \"l\":0, \"b\":0})\n",
    "# show the plot\n",
    "fig.show()"
   ]
  },
  {
   "cell_type": "markdown",
   "id": "solid-renewal",
   "metadata": {},
   "source": [
    "It's possible to exercise fine-grained control over the plot appearance, but an easier way is through themes: "
   ]
  },
  {
   "cell_type": "code",
   "execution_count": null,
   "id": "indie-immigration",
   "metadata": {
    "tags": []
   },
   "outputs": [],
   "source": [
    "import plotly.io as pio\n",
    "\n",
    "# pio.templates.default = \"ggplot2\"\n",
    "pio.templates.default = \"plotly_white\"\n",
    "\n",
    "\n",
    "fig = px.scatter(data_frame = penguins,\n",
    "                 x = \"Culmen Length (mm)\",\n",
    "                 y = \"Culmen Depth (mm)\",\n",
    "                 color = \"Species\",\n",
    "                 hover_name = \"Species\",\n",
    "                 hover_data = [\"Island\", \"Sex\"],\n",
    "                 size = \"Body Mass (g)\",\n",
    "                 size_max = 8,\n",
    "                 width = 500,\n",
    "                 height = 300,\n",
    "                opacity = 0.5,\n",
    "                marginal_y = \"box\",\n",
    "                marginal_x = \"rug\")\n",
    "\n",
    "#reduce whitespace\n",
    "fig.update_layout(margin={\"r\":0, \"t\":0, \"l\":0, \"b\":0})\n",
    "# show the plot\n",
    "fig.show()"
   ]
  },
  {
   "cell_type": "markdown",
   "id": "banner-underground",
   "metadata": {},
   "source": [
    "Modifying the theme this way will change the appearance of all future plots. "
   ]
  },
  {
   "cell_type": "markdown",
   "id": "complex-honolulu",
   "metadata": {},
   "source": [
    "## Facets\n",
    "\n",
    "*Facetting* refers to creating multiple, small plots, each of which display a subset of the data. Plotly supports the easy creation of facets using the `facet_col` and `facet_row` arguments."
   ]
  },
  {
   "cell_type": "code",
   "execution_count": null,
   "id": "honest-works",
   "metadata": {
    "tags": []
   },
   "outputs": [],
   "source": [
    "fig = px.scatter(data_frame = penguins,\n",
    "                 x = \"Culmen Length (mm)\",\n",
    "                 y = \"Culmen Depth (mm)\",\n",
    "                 color = \"Species\",\n",
    "                 hover_name = \"Species\",\n",
    "                 hover_data = [\"Island\", \"Sex\"],\n",
    "                 size = \"Body Mass (g)\",\n",
    "                 size_max = 8,\n",
    "                 width = 500,\n",
    "                 height = 300,\n",
    "                opacity = 0.5,\n",
    "                facet_col=\"Sex\")\n",
    "\n",
    "#reduce whitespace\n",
    "fig.update_layout(margin={\"r\":0, \"t\":50, \"l\":0, \"b\":0})\n",
    "# show the plot\n",
    "fig.show()"
   ]
  },
  {
   "cell_type": "markdown",
   "id": "immediate-marble",
   "metadata": {},
   "source": [
    "You can even use both at the same time! "
   ]
  },
  {
   "cell_type": "code",
   "execution_count": null,
   "id": "demanding-watson",
   "metadata": {
    "tags": []
   },
   "outputs": [],
   "source": [
    "fig = px.scatter(data_frame = penguins,\n",
    "                 x = \"Culmen Length (mm)\",\n",
    "                 y = \"Culmen Depth (mm)\",\n",
    "                 color = \"Species\",\n",
    "                 hover_name = \"Species\",\n",
    "                 hover_data = [\"Island\", \"Sex\"],\n",
    "                 size = \"Body Mass (g)\",\n",
    "                 size_max = 8,\n",
    "                 width = 500,\n",
    "                 height = 300,\n",
    "                opacity = 0.5,\n",
    "                facet_col=\"Island\",\n",
    "                 facet_row = \"Sex\"\n",
    "                )\n",
    "fig.update_xaxes(tickangle=45, tickfont=dict(family='Rockwell', color='crimson', size=14))\n",
    "# reduce whitespace\n",
    "fig.update_layout(\n",
    "    title=\"Plot Title\",\n",
    "    xaxis_title=\"X Axis Title\",\n",
    "    yaxis_title=\"Y Axis Title\",\n",
    "    legend_title=\"Legend Title\",\n",
    "    font=dict(\n",
    "        family=\"Courier New, monospace\",\n",
    "        size=10,\n",
    "        color=\"RebeccaPurple\"\n",
    "    )\n",
    ")\n",
    "fig.update_layout(margin={\"r\":0,\"t\":50,\"l\":0,\"b\":0})\n",
    "# show the plot\n",
    "fig.show()"
   ]
  },
  {
   "cell_type": "markdown",
   "id": "champion-transmission",
   "metadata": {},
   "source": [
    "Faceting is an easy way to create complex, scientifically interesting plots using minimal effort. "
   ]
  },
  {
   "cell_type": "markdown",
   "id": "4a6c1a8c-3223-4d4f-bb5f-e97d2815d701",
   "metadata": {},
   "source": [
    "## Geographic Data Visualization\n",
    "\n",
    "How about some interactive *geographic visualization*? \n",
    "\n",
    "\n",
    "### Creating Basemaps"
   ]
  },
  {
   "cell_type": "code",
   "execution_count": null,
   "id": "9afcbdc5-22be-4c48-b045-121ae3d5223b",
   "metadata": {
    "tags": []
   },
   "outputs": [],
   "source": [
    "import pandas as pd\n",
    "coords = pd.DataFrame({\n",
    "    \"lon\" : [-118.44300984639733], \n",
    "    \"lat\" : [34.0696449790177],\n",
    "    \"message\" : [\"Wish you were here\"]\n",
    "})\n",
    "coords"
   ]
  },
  {
   "cell_type": "code",
   "execution_count": null,
   "id": "2701b8e6-e563-413b-89e9-5b0d5367b588",
   "metadata": {
    "scrolled": true,
    "tags": []
   },
   "outputs": [],
   "source": [
    "from plotly import express as px\n",
    "\n",
    "fig = px.scatter_mapbox(coords, \n",
    "                        lat = \"lat\",\n",
    "                        lon = \"lon\", \n",
    "                        hover_name = \"message\",\n",
    "                        zoom = 15,\n",
    "                        height = 300,\n",
    "                        mapbox_style=\"open-street-map\")\n",
    "\n",
    "fig.update_layout(margin={\"r\":0,\"t\":0,\"l\":0,\"b\":0})\n",
    "fig.show()"
   ]
  },
  {
   "cell_type": "markdown",
   "id": "214e4eb0-9370-4d66-8017-3380b9baeb35",
   "metadata": {},
   "source": [
    "Let's break this down a bit. The first line is importing the `express` module of `plotly`.\n",
    "\n",
    "The magic happens starting on the third line, when we call `px.scatter_mapbox()`. The first argument must be a data frame. The `lat` and `lon` arguments tell `px` which columns contain the latitude and longitude coordinates. The `hover_name` specifies what should appear when we hover over the plotted point with our mouse. `zoom` controls the initial zoom level of the map, which can subsequently be modified by the user. `height` allows one to control the aspect ratio. There are many [other parameters](https://plotly.github.io/plotly.py-docs/generated/plotly.express.scatter_mapbox.html) to `px.scatter_mapbox()`. \n",
    "\n",
    "The final two lines control which *map tiles* are used in the visualization and the amount of whitespace around the visualization. The final line actually displays the map. \n",
    "\n",
    "Now let's try changing up the zoom level and the map tiles. The `positron` tiles from CartoDB are very low-contrast, which is very helpful when creating plots that use these tiles as backgrounds. "
   ]
  },
  {
   "cell_type": "code",
   "execution_count": null,
   "id": "6acc0daa-98ba-4947-914e-0f4fc02f887d",
   "metadata": {
    "tags": []
   },
   "outputs": [],
   "source": [
    "# different zoom level, use cartoDB tiles\n",
    "fig = px.scatter_mapbox(coords, \n",
    "                        lat = \"lat\",\n",
    "                        lon = \"lon\", \n",
    "                        hover_name = \"message\",\n",
    "                        zoom = 18,\n",
    "                        height = 300,\n",
    "                        mapbox_style=\"carto-positron\")\n",
    "\n",
    "fig.update_layout(margin={\"r\":0,\"t\":0,\"l\":0,\"b\":0})\n",
    "fig.show()"
   ]
  },
  {
   "cell_type": "markdown",
   "id": "fb05474d-d53e-4b84-b6bb-4a20d8424f9c",
   "metadata": {},
   "source": []
  },
  {
   "cell_type": "code",
   "execution_count": null,
   "id": "a07b5d0f-7741-4c0b-b640-bf14571b7bbb",
   "metadata": {
    "tags": []
   },
   "outputs": [],
   "source": [
    "# different zoom level, \n",
    "fig = px.scatter_mapbox(coords, \n",
    "                        lat = \"lat\",\n",
    "                        lon = \"lon\", \n",
    "                        hover_name = \"message\",\n",
    "                        zoom = 10,\n",
    "                        height = 300,\n",
    "                        mapbox_style=\"carto-darkmatter\")\n",
    "\n",
    "fig.update_layout(margin={\"r\":0,\"t\":0,\"l\":0,\"b\":0})\n",
    "fig.show()"
   ]
  },
  {
   "cell_type": "markdown",
   "id": "b8c9b216-0eab-45e7-bfd8-d1f245c7d4ad",
   "metadata": {},
   "source": [
    "Summing up, Plotly makes it unreasonably easy to create attractive, interactive maps in Python. Let's now go from \"pretty maps\" to \"informative, scientific data graphics.\" "
   ]
  },
  {
   "cell_type": "markdown",
   "id": "23753517-841a-4391-b619-f84b30cd2531",
   "metadata": {},
   "source": [
    "### Visualizing Climate Measurement Stations\n",
    "\n",
    "Let's now use our GHCN data on global temperatures to create some interesting visualizations. As a first step, we'll create a set of markers for different climate stations. First, let's grab the data on stations: "
   ]
  },
  {
   "cell_type": "code",
   "execution_count": null,
   "id": "2337cbf9-2779-451c-9284-d4f8f1417d35",
   "metadata": {},
   "outputs": [],
   "source": [
    "import os\n",
    "import urllib\n",
    "# download station-metadata.csv if it does not exist\n",
    "url = \"https://raw.githubusercontent.com/PIC16B-ucla/24F/refs/heads/main/datasets/noaa-ghcn/station-metadata.csv\"\n",
    "if not os.path.exists(\"station-metadata.csv\"): \n",
    "    urllib.request.urlretrieve(url, \"station-metadata.csv\")"
   ]
  },
  {
   "cell_type": "code",
   "execution_count": null,
   "id": "0d12e49c-373d-4d1d-b72d-82c07d317439",
   "metadata": {
    "tags": []
   },
   "outputs": [],
   "source": [
    "import numpy as np\n",
    "\n",
    "filename = \"station-metadata.csv\"\n",
    "stations = pd.read_csv(filename)\n",
    "stations.head()"
   ]
  },
  {
   "cell_type": "markdown",
   "id": "163adefc-7ffd-48bb-bd71-0c445ce2cd87",
   "metadata": {},
   "source": [
    "For the purposes of geographic plotting, the key columns here are the `LATITUDE` and `LONGITUDE` columns. Let's try plotting! \n",
    "\n",
    "Note that it might take a little while for the map to render. There are 27.5k points, which is kind of a lot! "
   ]
  },
  {
   "cell_type": "code",
   "execution_count": null,
   "id": "49ab0afe-c9c7-434a-910c-2180f00fd1b8",
   "metadata": {
    "tags": []
   },
   "outputs": [],
   "source": [
    "fig = px.scatter_mapbox(stations,\n",
    "                        lat = \"LATITUDE\",\n",
    "                        lon = \"LONGITUDE\",\n",
    "                        hover_name = \"NAME\",\n",
    "                        zoom = 1,\n",
    "                        height = 300)\n",
    "\n",
    "fig.update_layout(mapbox_style=\"carto-positron\")\n",
    "fig.update_layout(margin={\"r\":0,\"t\":0,\"l\":0,\"b\":0})\n",
    "fig.show()"
   ]
  },
  {
   "cell_type": "markdown",
   "id": "153c87da-3a75-4003-bbd0-f35beb4d59fb",
   "metadata": {},
   "source": [
    "This is cool and interactive, but there are a few shortcomings if we want to display scientific information. It's hard to make comparisons -- for example, it looks like there might be a higher density of stations in the US than in many other areas, but it's hard to be sure from the map above. For comparing densities, *heatmaps* provided a useful approach. Ploty again makes this unreasonably easy. "
   ]
  },
  {
   "cell_type": "code",
   "execution_count": null,
   "id": "6726974a-ea2a-4280-97e1-490dc013eb74",
   "metadata": {
    "tags": []
   },
   "outputs": [],
   "source": [
    "fig = px.density_mapbox(stations,\n",
    "                        lat = \"LATITUDE\",\n",
    "                        lon = \"LONGITUDE\",\n",
    "                        radius = 1,\n",
    "                        zoom = 0,\n",
    "                        height = 300)\n",
    "\n",
    "fig.update_layout(mapbox_style=\"carto-positron\")\n",
    "fig.update_layout(margin={\"r\":0,\"t\":0,\"l\":0,\"b\":0})\n",
    "fig.show()"
   ]
  },
  {
   "cell_type": "markdown",
   "id": "bb052570-0301-4189-84ba-72385e9b2f7f",
   "metadata": {},
   "source": [
    "The colors get brighter and more intense the more stations there are in that area. We can notice a few things, such as the very high density of measurement stations in the US and Germany. \n",
    "\n",
    "However, it's harder to see patterns when we zoom in much more. If we want to look at patterns within Europe, for example, we might want to increase the radius. \n",
    "\n",
    "Experimentation with the [various arguments](https://python-visualization.github.io/folium/latest/reference.html#folium.plugins.HeatMap) of the `HeatMap` function is usually necessary to obtain a good result. "
   ]
  },
  {
   "cell_type": "code",
   "execution_count": null,
   "id": "b312b8f9-cb42-47c7-9200-8a4c87959b6f",
   "metadata": {
    "tags": []
   },
   "outputs": [],
   "source": [
    "fig = px.density_mapbox(stations,\n",
    "                        lat = \"LATITUDE\",\n",
    "                        lon = \"LONGITUDE\",\n",
    "                        radius = 5,\n",
    "                        zoom = 2,\n",
    "                        height = 300,\n",
    "                       center={\"lat\": 51, \"lon\": 10})\n",
    "\n",
    "fig.update_layout(mapbox_style=\"carto-positron\")\n",
    "fig.update_layout(margin={\"r\":0,\"t\":0,\"l\":0,\"b\":0})\n",
    "fig.show()"
   ]
  },
  {
   "cell_type": "markdown",
   "id": "08fe16e3-511a-426b-a154-6afa0846ccef",
   "metadata": {},
   "source": [
    "## Geographic Scatterplots\n",
    "\n",
    "Another thing we might want to do is color code the climate stations according to some quantitative measure. Let's compute the average temperature in March for each one over the most recent decade, and use this to color code them. "
   ]
  },
  {
   "cell_type": "code",
   "execution_count": null,
   "id": "f34730f4-19b8-48b4-a200-b02c764000cb",
   "metadata": {
    "tags": []
   },
   "outputs": [],
   "source": [
    "interval = \"2011-2020\"\n",
    "url = f\"https://raw.githubusercontent.com/pic16b-ucla/24F/main/datasets/noaa-ghcn/decades/{interval}.csv\"\n",
    "temps = pd.read_csv(url)"
   ]
  },
  {
   "cell_type": "markdown",
   "id": "500a16ba-6083-4083-97c9-e640e005e43d",
   "metadata": {},
   "source": [
    "First we'll compute the average in March for each station. "
   ]
  },
  {
   "cell_type": "code",
   "execution_count": null,
   "id": "ee06e9f9-8ddd-4753-8447-099ae9ffdd19",
   "metadata": {
    "tags": []
   },
   "outputs": [],
   "source": [
    "march_avgs = temps.groupby(\"ID\")[[\"VALUE3\"]].mean() / 100"
   ]
  },
  {
   "cell_type": "markdown",
   "id": "90de8a92-3b5d-4445-9f8d-c0f82f07099e",
   "metadata": {},
   "source": [
    "Next, we'll *merge* the latitude/longitude data from the `stations` data frame. "
   ]
  },
  {
   "cell_type": "code",
   "execution_count": null,
   "id": "4f3b86d6-9953-4a2d-96c0-ae7347fcc732",
   "metadata": {
    "tags": []
   },
   "outputs": [],
   "source": [
    "march_avgs = march_avgs.reset_index()\n",
    "\n",
    "march_avgs = pd.merge(march_avgs, stations, on=\"ID\").dropna()"
   ]
  },
  {
   "cell_type": "code",
   "execution_count": null,
   "id": "79f4ba0f-6f96-4dba-bc14-5052a1a7b755",
   "metadata": {
    "tags": []
   },
   "outputs": [],
   "source": [
    "march_avgs[[\"VALUE3\", \"LATITUDE\", \"LONGITUDE\"]].head()"
   ]
  },
  {
   "cell_type": "markdown",
   "id": "70897b9f-cb6d-4ebf-989f-bc4fbb439570",
   "metadata": {},
   "source": [
    "Great! This is the data we need. Now we can supply this data to `px.scatter_mapbox`, using as the value of `color` the name variable that we want use to shade the points. "
   ]
  },
  {
   "cell_type": "code",
   "execution_count": null,
   "id": "faebc7b5-c33d-40ee-9cca-6286a02af7e2",
   "metadata": {
    "scrolled": true,
    "tags": []
   },
   "outputs": [],
   "source": [
    "fig = px.scatter_mapbox(march_avgs,\n",
    "                        lat = \"LATITUDE\",\n",
    "                        lon = \"LONGITUDE\",\n",
    "                        hover_name = \"NAME\",\n",
    "                        color = \"VALUE3\",\n",
    "                        zoom = 1,\n",
    "                        opacity = 0.2,\n",
    "                        height = 300,\n",
    "                       )\n",
    "                        \n",
    "fig.update_layout(mapbox_style=\"carto-positron\")\n",
    "fig.update_layout(margin={\"r\":0,\"t\":0,\"l\":0,\"b\":0})\n",
    "fig.show()"
   ]
  },
  {
   "cell_type": "markdown",
   "id": "4b64e0c7-b823-43ee-8dca-fa5f2ae7d469",
   "metadata": {},
   "source": [
    "This plot makes it easy to see that countries near the equator tend to be warmer (at least in March). "
   ]
  },
  {
   "cell_type": "markdown",
   "id": "32f76ff8-8856-4343-a7c1-9cae6bf0ac3e",
   "metadata": {},
   "source": [
    "## Saving and Sharing\n",
    "\n",
    "To save your visualization as HTML, just use `write_html` from `plotly.io`. "
   ]
  },
  {
   "cell_type": "code",
   "execution_count": null,
   "id": "dcc809c1-ce23-4782-86f5-7112f510df4f",
   "metadata": {
    "tags": []
   },
   "outputs": [],
   "source": [
    "from plotly.io import write_html\n",
    "write_html(fig, \"geo_scatter.html\")"
   ]
  },
  {
   "cell_type": "code",
   "execution_count": null,
   "id": "ee4f8a03-43bc-49b6-8b93-8ace753b64cb",
   "metadata": {
    "tags": []
   },
   "outputs": [],
   "source": [
    "import plotly.io as pio\n",
    "pio.renderers.default"
   ]
  },
  {
   "cell_type": "markdown",
   "id": "57d5c630-5f1e-47d9-ac18-43a7e6e0bf92",
   "metadata": {},
   "source": [
    "You can then send this file to people you'd like to impress! "
   ]
  },
  {
   "cell_type": "markdown",
   "id": "3e0e063d-8a80-4da5-89ec-2ae430859371",
   "metadata": {},
   "source": [
    "For Quarto blogs, the most reliable way has been setting renderer as `iframe` and keeping the auto-generated `iframe_figures/` folder with your notebook. The folder contains the generated `.html` file corresponding to each cell number. They will be automatically loaded as long as the folder `iframe_figures/` is in the same folder as the `.ipynb` file.  "
   ]
  },
  {
   "cell_type": "code",
   "execution_count": null,
   "id": "9874eabb-5576-44dc-ad14-a46a91d92d55",
   "metadata": {
    "tags": []
   },
   "outputs": [],
   "source": [
    "import plotly.io as pio\n",
    "pio.renderers.default=\"iframe\""
   ]
  },
  {
   "cell_type": "code",
   "execution_count": null,
   "id": "173497cd-de9b-46da-88b0-1f99e1d389f7",
   "metadata": {
    "tags": []
   },
   "outputs": [],
   "source": [
    "fig.show()"
   ]
  },
  {
   "cell_type": "markdown",
   "id": "placed-replication",
   "metadata": {},
   "source": [
    "## Statistical Graphics: Histograms, Boxplots, and Densities\n",
    "\n",
    "Scatterplots are probably the most universally useful plot type, but Plotly enables the creation of many other useful plot types. Here, let's focus on plot types for estimating univariate and bivariate densities. \n",
    "\n",
    "### Histograms"
   ]
  },
  {
   "cell_type": "code",
   "execution_count": null,
   "id": "ceramic-camcorder",
   "metadata": {
    "tags": []
   },
   "outputs": [],
   "source": [
    "fig = px.histogram(penguins,\n",
    "                   x = \"Culmen Length (mm)\",\n",
    "                   color = \"Species\",\n",
    "                   opacity = 0.5,\n",
    "                   nbins = 30, \n",
    "                   barmode = \"overlay\",#\"stack\", # also: \"group\", \"overlay\"\n",
    "                   width = 600,\n",
    "                   height = 300)\n",
    "\n",
    "# reduce whitespace\n",
    "fig.update_layout(margin={\"r\":0,\"t\":0,\"l\":0,\"b\":0})\n",
    "# show the plot\n",
    "fig.show()"
   ]
  },
  {
   "cell_type": "markdown",
   "id": "wrapped-freight",
   "metadata": {},
   "source": [
    "### Boxplots"
   ]
  },
  {
   "cell_type": "code",
   "execution_count": null,
   "id": "stone-divorce",
   "metadata": {
    "tags": []
   },
   "outputs": [],
   "source": [
    "fig = px.box(penguins,\n",
    "             x = \"Species\",\n",
    "             y = \"Body Mass (g)\",\n",
    "             color = \"Sex\",\n",
    "             width = 600,\n",
    "             height = 300)\n",
    "\n",
    "# reduce whitespace\n",
    "fig.update_layout(margin={\"r\":0,\"t\":0,\"l\":0,\"b\":0})\n",
    "# show the plot\n",
    "fig.show()"
   ]
  },
  {
   "cell_type": "markdown",
   "id": "accepting-church",
   "metadata": {},
   "source": [
    "## Bivariate Distributions\n",
    "\n",
    "A density heatmap is just a bivariate histogram: "
   ]
  },
  {
   "cell_type": "code",
   "execution_count": null,
   "id": "preceding-relief",
   "metadata": {
    "tags": []
   },
   "outputs": [],
   "source": [
    "fig = px.density_heatmap(penguins,\n",
    "                         x = \"Body Mass (g)\",\n",
    "                         y = \"Flipper Length (mm)\",\n",
    "                         facet_row = \"Sex\",\n",
    "                         nbinsx = 25, \n",
    "                         nbinsy = 25)\n",
    "fig.update_layout(margin={\"r\":0,\"t\":0,\"l\":0,\"b\":0})\n",
    "fig.show()"
   ]
  },
  {
   "cell_type": "markdown",
   "id": "usual-private",
   "metadata": {},
   "source": [
    "Density *contours* provide a nice alternative: "
   ]
  },
  {
   "cell_type": "code",
   "execution_count": null,
   "id": "unsigned-glory",
   "metadata": {
    "tags": []
   },
   "outputs": [],
   "source": [
    "fig = px.density_contour(penguins,\n",
    "                         x = \"Body Mass (g)\",\n",
    "                         y = \"Flipper Length (mm)\",\n",
    "                         facet_row = \"Sex\", \n",
    "                         color = \"Species\")\n",
    "fig.update_layout(margin={\"r\":50,\"t\":0,\"l\":0,\"b\":0})\n",
    "fig.show()"
   ]
  },
  {
   "cell_type": "markdown",
   "id": "increasing-pearl",
   "metadata": {
    "tags": []
   },
   "source": [
    "## Fancy Stuff\n",
    "\n",
    "Sometimes, we'd like to show relationships between many variables at once. In such cases, standard 2d plots can feel restrictive, and we might seek more complicated plot types. This is sometimes productive, but it's important not to chase complexity for its own sake. \n",
    "\n",
    "### 3d Scatterplots"
   ]
  },
  {
   "cell_type": "code",
   "execution_count": null,
   "id": "intimate-liechtenstein",
   "metadata": {
    "tags": []
   },
   "outputs": [],
   "source": [
    "fig = px.scatter_3d(penguins,\n",
    "                    x = \"Body Mass (g)\",\n",
    "                    y = \"Culmen Length (mm)\",\n",
    "                    z = \"Culmen Depth (mm)\",\n",
    "                    color = \"Species\",\n",
    "                    opacity = 0.5)\n",
    "\n",
    "fig.update_layout(margin={\"r\":0,\"t\":0,\"l\":0,\"b\":0})\n",
    "fig.show()"
   ]
  },
  {
   "cell_type": "markdown",
   "id": "dietary-advocacy",
   "metadata": {},
   "source": [
    "## Alluvial Diagrams\n",
    "\n",
    "Alluvial diagrams can be used to compare tabulations of categorical variables. "
   ]
  },
  {
   "cell_type": "code",
   "execution_count": null,
   "id": "foreign-despite",
   "metadata": {
    "tags": []
   },
   "outputs": [],
   "source": [
    "colors = {\"Adelie\"    : \"#2a9d8f\",\n",
    "          \"Chinstrap\" : \"#e9c46a\",\n",
    "          \"Gentoo\"    : \"#e76f51\"}\n",
    "color_hex = penguins[\"Species\"].map(colors)\n",
    "\n",
    "fig = px.parallel_categories(penguins, \n",
    "                             dimensions = [\"Species\", \"Island\", \"Sex\"],\n",
    "                             color = color_hex,\n",
    "                             height = 300)\n",
    "\n",
    "\n",
    "fig.update_layout(margin={\"r\":20,\"t\":0,\"l\":20,\"b\":0})\n",
    "fig.show()"
   ]
  },
  {
   "cell_type": "markdown",
   "id": "original-asbestos",
   "metadata": {},
   "source": [
    "This diagram makes it clear that Gentoo penguins are only found on Biscoe Island, and Chinstraps are only found on Dream Island, while the sexes of penguins are approximately balanced for each species on each island. \n",
    "\n"
   ]
  },
  {
   "cell_type": "markdown",
   "id": "fd92c481-eee3-47bc-b7e0-5bb96d3e52f3",
   "metadata": {},
   "source": [
    "## Parallel Coordinates\n",
    "\n",
    "One can construct similar visualizations for quantitative variables. These are interesting and support quite entertaining filtering operations, but can also be somewhat challenging to give a clean \"look.\""
   ]
  },
  {
   "cell_type": "code",
   "execution_count": null,
   "id": "native-burning",
   "metadata": {
    "tags": []
   },
   "outputs": [],
   "source": [
    "spec_ids = penguins[\"Species\"].map({\"Adelie\"    : 1,\n",
    "                                    \"Chinstrap\" : 2,\n",
    "                                    \"Gentoo\"    : 3})\n",
    "\n",
    "fig = px.parallel_coordinates(penguins,\n",
    "                              dimensions = [\"Culmen Depth (mm)\",\n",
    "                                            \"Culmen Length (mm)\",\n",
    "                                            \"Flipper Length (mm)\",\n",
    "                                            \"Body Mass (g)\"],\n",
    "                              color = spec_ids,\n",
    "                              color_continuous_scale=px.colors.diverging.Tealrose,\n",
    "                              color_continuous_midpoint=2,\n",
    "                              height = 400)\n",
    "\n",
    "\n",
    "fig.show()"
   ]
  },
  {
   "cell_type": "markdown",
   "id": "indirect-sharp",
   "metadata": {},
   "source": [
    "## Takeaways For Today\n",
    "\n",
    "- Plotly Express makes it unreasonably easy to create attractive, sophisticated, and interactive data graphics. \n",
    "- Amidst all these tools, it's important to choose the one that's right for the story you want to tell -- if your story is simple, use a simple visualization. \n",
    "- Penguins are very good birds. "
   ]
  }
 ],
 "metadata": {
  "kernelspec": {
   "display_name": "Python [conda env:PIC16B-2]",
   "language": "python",
   "name": "conda-env-PIC16B-2-py"
  },
  "language_info": {
   "codemirror_mode": {
    "name": "ipython",
    "version": 3
   },
   "file_extension": ".py",
   "mimetype": "text/x-python",
   "name": "python",
   "nbconvert_exporter": "python",
   "pygments_lexer": "ipython3",
   "version": "3.11.6"
  },
  "widgets": {
   "application/vnd.jupyter.widget-state+json": {
    "state": {},
    "version_major": 2,
    "version_minor": 0
   }
  }
 },
 "nbformat": 4,
 "nbformat_minor": 5
}
