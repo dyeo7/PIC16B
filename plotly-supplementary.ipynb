{
 "cells": [
  {
   "cell_type": "markdown",
   "id": "3134bca1-cace-45af-8042-ab48bfd6aad0",
   "metadata": {
    "tags": []
   },
   "source": [
    "# Choropleths\n",
    "\n",
    "A *choropleth* is a polygon-based visualization, in which different geographic polygons are assigned different colors. If you've ever seen a map of election results by state, or of CO2 emissions by country, you've seen a choropleth. \n",
    "\n",
    "Let's make one! We'll visualize the average March temperature for each country. We need two things: \n",
    "\n",
    "1. A data frame containing the average march temperature for each country. \n",
    "2. A GeoJSON file containing the coordinates for the country polygons. \n",
    "\n",
    "GeoJSON's are pretty complex files, but fortunately we don't really need to interact with them too much. The code below uses the `json` module to read a GeoJSON file from the web. This file contains the borders of countries. "
   ]
  },
  {
   "cell_type": "code",
   "execution_count": null,
   "id": "ba93179f-e95d-4a03-afe1-cb5df209ba5f",
   "metadata": {
    "tags": []
   },
   "outputs": [],
   "source": [
    "from urllib.request import urlopen\n",
    "import json\n",
    "\n",
    "countries_gj_url = \"https://raw.githubusercontent.com/pic16b-ucla/24F/main/datasets/countries.geojson\"\n",
    "\n",
    "with urlopen(countries_gj_url) as response:\n",
    "    countries_gj = json.load(response)"
   ]
  },
  {
   "cell_type": "code",
   "execution_count": null,
   "id": "ed4bbfc3-4c81-470c-9830-395b97d614d4",
   "metadata": {
    "tags": []
   },
   "outputs": [],
   "source": [
    "import pandas as pd\n",
    "interval = \"2011-2020\"\n",
    "url = f\"https://raw.githubusercontent.com/pic16b-ucla/24F/main/datasets/noaa-ghcn/decades/{interval}.csv\"\n",
    "temps = pd.read_csv(url)"
   ]
  },
  {
   "cell_type": "markdown",
   "id": "b05b5d1f-116a-4d9d-a5b9-340c03269454",
   "metadata": {},
   "source": [
    "GeoJSON files can be very complicated, and often contain large quantities of metadata. For our purposes, we only need the name of the country and the shape in coordinates, which is supplied by the `geometry` feature: "
   ]
  },
  {
   "cell_type": "code",
   "execution_count": null,
   "id": "101022f2-f9ad-41f5-b37d-534d58cd62ef",
   "metadata": {
    "tags": []
   },
   "outputs": [],
   "source": [
    "countries_gj[\"features\"][1]"
   ]
  },
  {
   "cell_type": "markdown",
   "id": "6a742e9e-61b8-4ade-a15e-c64d5c96f32b",
   "metadata": {},
   "source": [
    "The next thing we need is temperature data! The code below uses the `merge` function introduced in a previous lecture to add the name of the country to the data frame containing the station temperature readings. "
   ]
  },
  {
   "cell_type": "code",
   "execution_count": null,
   "id": "9a904fc4-92b1-439a-95d3-0b3247a2c1a0",
   "metadata": {
    "tags": []
   },
   "outputs": [],
   "source": [
    "countries_url = \"https://raw.githubusercontent.com/mysociety/gaze/master/data/fips-10-4-to-iso-country-codes.csv\"\n",
    "countries = pd.read_csv(countries_url)\n",
    "\n",
    "countries.head()"
   ]
  },
  {
   "cell_type": "code",
   "execution_count": null,
   "id": "9c30f681-ed1e-4b8e-8d12-cc2d17c7e0a3",
   "metadata": {
    "tags": []
   },
   "outputs": [],
   "source": [
    "# extract the FIPS code in the temps data frame and merge\n",
    "temps[\"FIPS 10-4\"] = temps[\"ID\"].str[:2]\n",
    "temps = pd.merge(temps, countries, on = \"FIPS 10-4\")"
   ]
  },
  {
   "cell_type": "code",
   "execution_count": null,
   "id": "99793090-6207-4a73-afe1-17095ecb3e3a",
   "metadata": {
    "tags": []
   },
   "outputs": [],
   "source": [
    "# compute the mean temperature in march, in degrees C. \n",
    "march_avgs_by_country = temps.groupby(\"Name\")[[\"VALUE3\"]].mean() / 100\n",
    "march_avgs_by_country = march_avgs_by_country.reset_index()\n",
    "march_avgs_by_country.head()"
   ]
  },
  {
   "cell_type": "markdown",
   "id": "e715d645-de1d-48e2-8ac8-191c02807a65",
   "metadata": {},
   "source": [
    "And now we're done with our data prep! We now need to use `px.choropleth` to create the map. We need to pass the data frame of temperature data, the GeoJSON file, and some additional information. \n",
    "\n",
    "- `locations`: We need to indicate which column in `march_avgs_by_country` to use as the identifiers of countries. \n",
    "- `locationmode`: We need to specify that the values in the columns passed to `locations` are names of countries and not, say, FIPS ID codes. \n",
    "- `color`: We need to state which column should be used to determine the color of each country. "
   ]
  },
  {
   "cell_type": "code",
   "execution_count": null,
   "id": "da7adbf3-8765-4c90-a6d2-9db1c21d3fdb",
   "metadata": {
    "tags": []
   },
   "outputs": [],
   "source": [
    "from plotly import express as px\n",
    "fig = px.choropleth(march_avgs_by_country,\n",
    "                    geojson=countries_gj,\n",
    "                    locations = \"Name\",\n",
    "                    locationmode= \"country names\",\n",
    "                    color= \"VALUE3\",\n",
    "                    height = 300)\n",
    "\n",
    "fig.update_layout(margin={\"r\":0,\"t\":0,\"l\":0,\"b\":0})\n",
    "fig.show()"
   ]
  },
  {
   "cell_type": "markdown",
   "id": "988fe0f6-d0d2-414b-b78c-aa9524c9c7dd",
   "metadata": {},
   "source": [
    "We did it! Drawing GeoJSON files can require substantial computational effort, and so it might take a while for this code to run. Note that there are a few countries that are missing data, indicated by light gray. These correspond to cases in which there wasn't an entry of `march_avgs_by_country` matching the country name in the GeoJSON. This can occur either because there truly is no data or because there was a discrepancy inthe labels. In the latter case, we could improve the situation by data cleaning.  "
   ]
  },
  {
   "cell_type": "markdown",
   "id": "54ec5770-d48b-462c-8fc4-cc42b4773c93",
   "metadata": {},
   "source": [
    "# Learn More\n",
    "\n",
    "This is just a taste of geographic data visualization. There are many other kinds of tasks we might want to perform. You can find a number of helpful examples of using Plotly and Plotly Express to create attractive geographic data visualizations [here](https://plotly.com/python/maps/). "
   ]
  }
 ],
 "metadata": {
  "kernelspec": {
   "display_name": "Python [conda env:PIC16B-24F] *",
   "language": "python",
   "name": "conda-env-PIC16B-24F-py"
  },
  "language_info": {
   "codemirror_mode": {
    "name": "ipython",
    "version": 3
   },
   "file_extension": ".py",
   "mimetype": "text/x-python",
   "name": "python",
   "nbconvert_exporter": "python",
   "pygments_lexer": "ipython3",
   "version": "3.11.6"
  }
 },
 "nbformat": 4,
 "nbformat_minor": 5
}
